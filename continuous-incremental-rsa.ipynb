{
 "cells": [
  {
   "cell_type": "markdown",
   "id": "382487a2",
   "metadata": {},
   "source": [
    "# Continuous incremental RSA\n",
    "\n",
    "In this notebook, we provide Python implementations of 2 variants of the RSA framework:\n",
    "- _Continuous_ semantics RSA [(Degen et al. 2020)](http://alpslab.stanford.edu/papers/2020_DegenEtAl.pdf): this paper introduces the idea of using a continuous, rather than Boolean, meaning function in which the semantic value of a given lexical item is in the range [0, 1], where a higher value represents a less \"noisy\" signal.\n",
    "- _Continuous incremental_ semantics RSA [(Waldon and Degen 2021)](https://aclanthology.org/2021.scil-1.19.pdf): this paper combines the aforementioned _continuous_ semantics with _incremental_ semantics [(Cohn-Gordon et al. 2020)](https://aclanthology.org/W19-0109.pdf), which models pragmatic reasoning at the word level, rather than over complete utterances."
   ]
  },
  {
   "cell_type": "code",
   "execution_count": 1,
   "id": "36426d2f",
   "metadata": {},
   "outputs": [],
   "source": [
    "import numpy as np\n",
    "import pandas as pd\n",
    "import matplotlib.pyplot as plt\n",
    "import string"
   ]
  },
  {
   "cell_type": "markdown",
   "id": "21e920bd",
   "metadata": {},
   "source": [
    "## Part 1: Continuous RSA\n",
    "\n",
    "### Define objects and utterances\n",
    "\n",
    "First, we assume a world in which the possible lexical items are 'red', 'blue', 'pin', 'dress'."
   ]
  },
  {
   "cell_type": "code",
   "execution_count": 2,
   "id": "fd51ce26",
   "metadata": {},
   "outputs": [],
   "source": [
    "adjectives = ['red', 'blue']\n",
    "nouns = ['pin', 'dress']"
   ]
  },
  {
   "cell_type": "markdown",
   "id": "9a89e6e2",
   "metadata": {},
   "source": [
    "Let's define a function to create all the possible objects in the world."
   ]
  },
  {
   "cell_type": "code",
   "execution_count": 3,
   "id": "4e568919",
   "metadata": {},
   "outputs": [],
   "source": [
    "def get_all_objects(adjectives, nouns):\n",
    "    objects = []\n",
    "    for adj in adjectives:\n",
    "        for noun in nouns:\n",
    "            obj = {}\n",
    "            obj[\"color\"] = adj\n",
    "            obj[\"shape\"] = noun\n",
    "            obj[\"string\"] = adj + \" \" + noun\n",
    "            objects.append(obj)\n",
    "            \n",
    "    return objects"
   ]
  },
  {
   "cell_type": "markdown",
   "id": "ec67f665",
   "metadata": {},
   "source": [
    "Now we can see all the objects:"
   ]
  },
  {
   "cell_type": "code",
   "execution_count": 4,
   "id": "e6078a6d",
   "metadata": {},
   "outputs": [
    {
     "data": {
      "text/plain": [
       "[{'color': 'red', 'shape': 'pin', 'string': 'red pin'},\n",
       " {'color': 'red', 'shape': 'dress', 'string': 'red dress'},\n",
       " {'color': 'blue', 'shape': 'pin', 'string': 'blue pin'},\n",
       " {'color': 'blue', 'shape': 'dress', 'string': 'blue dress'}]"
      ]
     },
     "execution_count": 4,
     "metadata": {},
     "output_type": "execute_result"
    }
   ],
   "source": [
    "objects = get_all_objects(adjectives, nouns)\n",
    "objects"
   ]
  },
  {
   "cell_type": "markdown",
   "id": "052ed3b0",
   "metadata": {},
   "source": [
    "Next, we can define all the possible utterances. Similar to above, we'll write a function to compressly express all the combos."
   ]
  },
  {
   "cell_type": "code",
   "execution_count": 5,
   "id": "7accc6c5",
   "metadata": {},
   "outputs": [],
   "source": [
    "def get_all_utterances(adjectives, nouns):\n",
    "    utterances = []\n",
    "    utterances.extend(adjectives)\n",
    "    utterances.extend(nouns)\n",
    "    for adj in adjectives:\n",
    "        for noun in nouns:\n",
    "            adj_first = adj + \" \" + noun\n",
    "            noun_first = noun + \" \" + adj\n",
    "            utterances.append(adj_first)\n",
    "            utterances.append(noun_first)\n",
    "            \n",
    "    return utterances"
   ]
  },
  {
   "cell_type": "code",
   "execution_count": 6,
   "id": "6b1d4173",
   "metadata": {},
   "outputs": [
    {
     "data": {
      "text/plain": [
       "['red',\n",
       " 'blue',\n",
       " 'pin',\n",
       " 'dress',\n",
       " 'red pin',\n",
       " 'pin red',\n",
       " 'red dress',\n",
       " 'dress red',\n",
       " 'blue pin',\n",
       " 'pin blue',\n",
       " 'blue dress',\n",
       " 'dress blue']"
      ]
     },
     "execution_count": 6,
     "metadata": {},
     "output_type": "execute_result"
    }
   ],
   "source": [
    "utterances = get_all_utterances(adjectives, nouns)\n",
    "utterances"
   ]
  },
  {
   "cell_type": "markdown",
   "id": "a47b3f15",
   "metadata": {},
   "source": [
    "### Define meaning functions\n",
    "\n",
    "Now, we're going to define a meaning function, which is slightly different from how we implemented it in `intro-to-rsa.ipynb`, where utterances could only be one word long. This meaning function maps an utterance to every possible object for which that utterance applies, taking into account multi-word utterances (so ``blue square`` could only refer to an object that is both blue and square, not, for example, any blue thing).\n",
    "\n",
    "**Note that this meaning function still uses Boolean (i.e. not continuous) semantics.** In the ensuing sections, we will define a continuous meaning function that also captures asymmetries in referential noise between adjectives and nouns, but we'll hold off on that for now."
   ]
  },
  {
   "cell_type": "code",
   "execution_count": 7,
   "id": "08a27a17",
   "metadata": {},
   "outputs": [],
   "source": [
    "def boolean_meaning(obj, utt):\n",
    "    utt_as_tokens = utt.split()\n",
    "    all_contained = set(utt_as_tokens).issubset(obj.values())\n",
    "            \n",
    "    return int(all_contained)"
   ]
  },
  {
   "cell_type": "code",
   "execution_count": 8,
   "id": "0b091512",
   "metadata": {},
   "outputs": [
    {
     "data": {
      "text/plain": [
       "1"
      ]
     },
     "execution_count": 8,
     "metadata": {},
     "output_type": "execute_result"
    }
   ],
   "source": [
    "boolean_meaning({'color': 'red', 'shape': 'square', 'string': 'red square'}, 'square')"
   ]
  },
  {
   "cell_type": "markdown",
   "id": "ad7a1cb9",
   "metadata": {},
   "source": [
    "Now that we've seen how a meaning function works for a multi-word utterance, we are going to dial up the complexity and implement the **continuous meaning function**. The semantic value of an utterance is the product of the semantic value of each of the utterances constituent tokens. We assume semantic values of 0.99 for nouns ('pin', 'dress') and 0.95 for adjectives ('red', 'blue'): stated otherwise, adjectives are noisier than nouns.  As an example, the semantic value associated with the utterance 'red dress' is 0.99 * 0.95 = 0.9405."
   ]
  },
  {
   "cell_type": "code",
   "execution_count": 9,
   "id": "42401321",
   "metadata": {},
   "outputs": [],
   "source": [
    "def token_applies_to_obj(obj, token):\n",
    "    return token in obj.values()\n",
    "\n",
    "def continuous_meaning(obj, utt, v_adj=0.95, v_noun=0.99):\n",
    "    total = 1\n",
    "    for token in utt.split():\n",
    "        if token_applies_to_obj(obj, token):\n",
    "            if token in adjectives: total *= v_adj\n",
    "            if token in nouns: total *= v_noun\n",
    "        else:\n",
    "            if token in adjectives: total *= (1 - v_adj)\n",
    "            if token in nouns: total *= (1 - v_noun)\n",
    "                \n",
    "    return total"
   ]
  },
  {
   "cell_type": "code",
   "execution_count": 10,
   "id": "294c35dc",
   "metadata": {},
   "outputs": [
    {
     "data": {
      "text/plain": [
       "0.9405"
      ]
     },
     "execution_count": 10,
     "metadata": {},
     "output_type": "execute_result"
    }
   ],
   "source": [
    "continuous_meaning({'color': 'red', 'shape': 'pin', 'string': 'red pin'}, 'red pin')"
   ]
  },
  {
   "cell_type": "markdown",
   "id": "7a54766a",
   "metadata": {},
   "source": [
    "### Literal listener\n",
    "\n",
    "Our `literal_listener` function is near identical to the standard literal listener, as introduced in `intro-to-rsa.ipynb`, with one exception: we now can specify the `meaning_fn`. We'll compare what happens when we use Boolean vs. continuous semantics."
   ]
  },
  {
   "cell_type": "code",
   "execution_count": 11,
   "id": "4e421caa",
   "metadata": {},
   "outputs": [],
   "source": [
    "def normalize_rows(matrix):\n",
    "    \"\"\"\n",
    "    Helper function that normalize probabilities across rows to sum to 1\n",
    "    \"\"\"\n",
    "    totals = np.sum(matrix, axis=1)\n",
    "    return matrix / totals[:, np.newaxis]\n",
    "\n",
    "def literal_listener(utt, meaning_fn):\n",
    "    # generate the matrix of utterances x world states\n",
    "    all_counts = np.zeros(shape=(len(utterances), len(objects)))\n",
    "    for i in range(len(utterances)):\n",
    "        for j in range(len(objects)):\n",
    "            curr_utt = utterances[i]\n",
    "            curr_obj = objects[j]\n",
    "\n",
    "            all_counts[i, j] = meaning_fn(curr_obj, curr_utt)\n",
    "            # if I wanted to incorporate a prior I would do it here\n",
    "                \n",
    "    data = normalize_rows(all_counts)\n",
    "    df_cols = [obj[\"string\"] for obj in objects]\n",
    "    df = pd.DataFrame(data, columns=df_cols, index=utterances)\n",
    "    return df, df.loc[utt]"
   ]
  },
  {
   "cell_type": "code",
   "execution_count": 12,
   "id": "ce697b49",
   "metadata": {},
   "outputs": [
    {
     "data": {
      "text/html": [
       "<div>\n",
       "<style scoped>\n",
       "    .dataframe tbody tr th:only-of-type {\n",
       "        vertical-align: middle;\n",
       "    }\n",
       "\n",
       "    .dataframe tbody tr th {\n",
       "        vertical-align: top;\n",
       "    }\n",
       "\n",
       "    .dataframe thead th {\n",
       "        text-align: right;\n",
       "    }\n",
       "</style>\n",
       "<table border=\"1\" class=\"dataframe\">\n",
       "  <thead>\n",
       "    <tr style=\"text-align: right;\">\n",
       "      <th></th>\n",
       "      <th>red pin</th>\n",
       "      <th>red dress</th>\n",
       "      <th>blue pin</th>\n",
       "      <th>blue dress</th>\n",
       "    </tr>\n",
       "  </thead>\n",
       "  <tbody>\n",
       "    <tr>\n",
       "      <th>red</th>\n",
       "      <td>0.5</td>\n",
       "      <td>0.5</td>\n",
       "      <td>0.0</td>\n",
       "      <td>0.0</td>\n",
       "    </tr>\n",
       "    <tr>\n",
       "      <th>blue</th>\n",
       "      <td>0.0</td>\n",
       "      <td>0.0</td>\n",
       "      <td>0.5</td>\n",
       "      <td>0.5</td>\n",
       "    </tr>\n",
       "    <tr>\n",
       "      <th>pin</th>\n",
       "      <td>0.5</td>\n",
       "      <td>0.0</td>\n",
       "      <td>0.5</td>\n",
       "      <td>0.0</td>\n",
       "    </tr>\n",
       "    <tr>\n",
       "      <th>dress</th>\n",
       "      <td>0.0</td>\n",
       "      <td>0.5</td>\n",
       "      <td>0.0</td>\n",
       "      <td>0.5</td>\n",
       "    </tr>\n",
       "    <tr>\n",
       "      <th>red pin</th>\n",
       "      <td>1.0</td>\n",
       "      <td>0.0</td>\n",
       "      <td>0.0</td>\n",
       "      <td>0.0</td>\n",
       "    </tr>\n",
       "    <tr>\n",
       "      <th>pin red</th>\n",
       "      <td>1.0</td>\n",
       "      <td>0.0</td>\n",
       "      <td>0.0</td>\n",
       "      <td>0.0</td>\n",
       "    </tr>\n",
       "    <tr>\n",
       "      <th>red dress</th>\n",
       "      <td>0.0</td>\n",
       "      <td>1.0</td>\n",
       "      <td>0.0</td>\n",
       "      <td>0.0</td>\n",
       "    </tr>\n",
       "    <tr>\n",
       "      <th>dress red</th>\n",
       "      <td>0.0</td>\n",
       "      <td>1.0</td>\n",
       "      <td>0.0</td>\n",
       "      <td>0.0</td>\n",
       "    </tr>\n",
       "    <tr>\n",
       "      <th>blue pin</th>\n",
       "      <td>0.0</td>\n",
       "      <td>0.0</td>\n",
       "      <td>1.0</td>\n",
       "      <td>0.0</td>\n",
       "    </tr>\n",
       "    <tr>\n",
       "      <th>pin blue</th>\n",
       "      <td>0.0</td>\n",
       "      <td>0.0</td>\n",
       "      <td>1.0</td>\n",
       "      <td>0.0</td>\n",
       "    </tr>\n",
       "    <tr>\n",
       "      <th>blue dress</th>\n",
       "      <td>0.0</td>\n",
       "      <td>0.0</td>\n",
       "      <td>0.0</td>\n",
       "      <td>1.0</td>\n",
       "    </tr>\n",
       "    <tr>\n",
       "      <th>dress blue</th>\n",
       "      <td>0.0</td>\n",
       "      <td>0.0</td>\n",
       "      <td>0.0</td>\n",
       "      <td>1.0</td>\n",
       "    </tr>\n",
       "  </tbody>\n",
       "</table>\n",
       "</div>"
      ],
      "text/plain": [
       "            red pin  red dress  blue pin  blue dress\n",
       "red             0.5        0.5       0.0         0.0\n",
       "blue            0.0        0.0       0.5         0.5\n",
       "pin             0.5        0.0       0.5         0.0\n",
       "dress           0.0        0.5       0.0         0.5\n",
       "red pin         1.0        0.0       0.0         0.0\n",
       "pin red         1.0        0.0       0.0         0.0\n",
       "red dress       0.0        1.0       0.0         0.0\n",
       "dress red       0.0        1.0       0.0         0.0\n",
       "blue pin        0.0        0.0       1.0         0.0\n",
       "pin blue        0.0        0.0       1.0         0.0\n",
       "blue dress      0.0        0.0       0.0         1.0\n",
       "dress blue      0.0        0.0       0.0         1.0"
      ]
     },
     "execution_count": 12,
     "metadata": {},
     "output_type": "execute_result"
    }
   ],
   "source": [
    "l0_df_bool, l0_probs_bool = literal_listener('red', meaning_fn=boolean_meaning)\n",
    "l0_df_bool"
   ]
  },
  {
   "cell_type": "code",
   "execution_count": 13,
   "id": "e67a01a5",
   "metadata": {},
   "outputs": [
    {
     "data": {
      "text/plain": [
       "red pin       0.5\n",
       "red dress     0.5\n",
       "blue pin      0.0\n",
       "blue dress    0.0\n",
       "Name: red, dtype: float64"
      ]
     },
     "execution_count": 13,
     "metadata": {},
     "output_type": "execute_result"
    }
   ],
   "source": [
    "l0_probs_bool"
   ]
  },
  {
   "cell_type": "code",
   "execution_count": 14,
   "id": "181ff1a3",
   "metadata": {},
   "outputs": [
    {
     "data": {
      "text/html": [
       "<div>\n",
       "<style scoped>\n",
       "    .dataframe tbody tr th:only-of-type {\n",
       "        vertical-align: middle;\n",
       "    }\n",
       "\n",
       "    .dataframe tbody tr th {\n",
       "        vertical-align: top;\n",
       "    }\n",
       "\n",
       "    .dataframe thead th {\n",
       "        text-align: right;\n",
       "    }\n",
       "</style>\n",
       "<table border=\"1\" class=\"dataframe\">\n",
       "  <thead>\n",
       "    <tr style=\"text-align: right;\">\n",
       "      <th></th>\n",
       "      <th>red pin</th>\n",
       "      <th>red dress</th>\n",
       "      <th>blue pin</th>\n",
       "      <th>blue dress</th>\n",
       "    </tr>\n",
       "  </thead>\n",
       "  <tbody>\n",
       "    <tr>\n",
       "      <th>red</th>\n",
       "      <td>0.4750</td>\n",
       "      <td>0.4750</td>\n",
       "      <td>0.0250</td>\n",
       "      <td>0.0250</td>\n",
       "    </tr>\n",
       "    <tr>\n",
       "      <th>blue</th>\n",
       "      <td>0.0250</td>\n",
       "      <td>0.0250</td>\n",
       "      <td>0.4750</td>\n",
       "      <td>0.4750</td>\n",
       "    </tr>\n",
       "    <tr>\n",
       "      <th>pin</th>\n",
       "      <td>0.4950</td>\n",
       "      <td>0.0050</td>\n",
       "      <td>0.4950</td>\n",
       "      <td>0.0050</td>\n",
       "    </tr>\n",
       "    <tr>\n",
       "      <th>dress</th>\n",
       "      <td>0.0050</td>\n",
       "      <td>0.4950</td>\n",
       "      <td>0.0050</td>\n",
       "      <td>0.4950</td>\n",
       "    </tr>\n",
       "    <tr>\n",
       "      <th>red pin</th>\n",
       "      <td>0.9405</td>\n",
       "      <td>0.0095</td>\n",
       "      <td>0.0495</td>\n",
       "      <td>0.0005</td>\n",
       "    </tr>\n",
       "    <tr>\n",
       "      <th>pin red</th>\n",
       "      <td>0.9405</td>\n",
       "      <td>0.0095</td>\n",
       "      <td>0.0495</td>\n",
       "      <td>0.0005</td>\n",
       "    </tr>\n",
       "    <tr>\n",
       "      <th>red dress</th>\n",
       "      <td>0.0095</td>\n",
       "      <td>0.9405</td>\n",
       "      <td>0.0005</td>\n",
       "      <td>0.0495</td>\n",
       "    </tr>\n",
       "    <tr>\n",
       "      <th>dress red</th>\n",
       "      <td>0.0095</td>\n",
       "      <td>0.9405</td>\n",
       "      <td>0.0005</td>\n",
       "      <td>0.0495</td>\n",
       "    </tr>\n",
       "    <tr>\n",
       "      <th>blue pin</th>\n",
       "      <td>0.0495</td>\n",
       "      <td>0.0005</td>\n",
       "      <td>0.9405</td>\n",
       "      <td>0.0095</td>\n",
       "    </tr>\n",
       "    <tr>\n",
       "      <th>pin blue</th>\n",
       "      <td>0.0495</td>\n",
       "      <td>0.0005</td>\n",
       "      <td>0.9405</td>\n",
       "      <td>0.0095</td>\n",
       "    </tr>\n",
       "    <tr>\n",
       "      <th>blue dress</th>\n",
       "      <td>0.0005</td>\n",
       "      <td>0.0495</td>\n",
       "      <td>0.0095</td>\n",
       "      <td>0.9405</td>\n",
       "    </tr>\n",
       "    <tr>\n",
       "      <th>dress blue</th>\n",
       "      <td>0.0005</td>\n",
       "      <td>0.0495</td>\n",
       "      <td>0.0095</td>\n",
       "      <td>0.9405</td>\n",
       "    </tr>\n",
       "  </tbody>\n",
       "</table>\n",
       "</div>"
      ],
      "text/plain": [
       "            red pin  red dress  blue pin  blue dress\n",
       "red          0.4750     0.4750    0.0250      0.0250\n",
       "blue         0.0250     0.0250    0.4750      0.4750\n",
       "pin          0.4950     0.0050    0.4950      0.0050\n",
       "dress        0.0050     0.4950    0.0050      0.4950\n",
       "red pin      0.9405     0.0095    0.0495      0.0005\n",
       "pin red      0.9405     0.0095    0.0495      0.0005\n",
       "red dress    0.0095     0.9405    0.0005      0.0495\n",
       "dress red    0.0095     0.9405    0.0005      0.0495\n",
       "blue pin     0.0495     0.0005    0.9405      0.0095\n",
       "pin blue     0.0495     0.0005    0.9405      0.0095\n",
       "blue dress   0.0005     0.0495    0.0095      0.9405\n",
       "dress blue   0.0005     0.0495    0.0095      0.9405"
      ]
     },
     "execution_count": 14,
     "metadata": {},
     "output_type": "execute_result"
    }
   ],
   "source": [
    "l0_df_cont, l0_probs_cont = literal_listener('red', meaning_fn=continuous_meaning)\n",
    "l0_df_cont"
   ]
  },
  {
   "cell_type": "code",
   "execution_count": 15,
   "id": "cd96caa7",
   "metadata": {},
   "outputs": [
    {
     "data": {
      "text/plain": [
       "red pin       0.475\n",
       "red dress     0.475\n",
       "blue pin      0.025\n",
       "blue dress    0.025\n",
       "Name: red, dtype: float64"
      ]
     },
     "execution_count": 15,
     "metadata": {},
     "output_type": "execute_result"
    }
   ],
   "source": [
    "l0_probs_cont"
   ]
  },
  {
   "cell_type": "markdown",
   "id": "51356674",
   "metadata": {},
   "source": [
    "With the continuous meaning function, notice how we have nonzero values for utterances that are literally false. This is by design!"
   ]
  },
  {
   "cell_type": "markdown",
   "id": "6b59a748",
   "metadata": {},
   "source": [
    "### Pragmatic speaker\n",
    "\n",
    "Our pragmatic speaker is the same as in the standard RSA setup, except we specify that we want the literal listener to use continuous semantics. For simplicity, we assume 0 cost for any utterance."
   ]
  },
  {
   "cell_type": "code",
   "execution_count": 16,
   "id": "98b17a52",
   "metadata": {},
   "outputs": [],
   "source": [
    "def cost(utt):\n",
    "    return 0\n",
    "\n",
    "def pragmatic_speaker(obj, alpha=1):\n",
    "    all_vals = []\n",
    "    for curr_utt in utterances:\n",
    "        _, probs = literal_listener(curr_utt, meaning_fn=continuous_meaning)\n",
    "        utility = np.array(probs)\n",
    "        val = np.exp(alpha * (np.log(utility) - cost(curr_utt)))\n",
    "        all_vals.append(val)\n",
    "        \n",
    "    data = normalize_rows(np.array(all_vals).T)\n",
    "    df_idx = [obj[\"string\"] for obj in objects]\n",
    "    df = pd.DataFrame(data, columns=utterances, index=df_idx)\n",
    "    \n",
    "    return df, df.loc[obj[\"string\"]]"
   ]
  },
  {
   "cell_type": "code",
   "execution_count": 17,
   "id": "309658e6",
   "metadata": {},
   "outputs": [
    {
     "data": {
      "text/html": [
       "<div>\n",
       "<style scoped>\n",
       "    .dataframe tbody tr th:only-of-type {\n",
       "        vertical-align: middle;\n",
       "    }\n",
       "\n",
       "    .dataframe tbody tr th {\n",
       "        vertical-align: top;\n",
       "    }\n",
       "\n",
       "    .dataframe thead th {\n",
       "        text-align: right;\n",
       "    }\n",
       "</style>\n",
       "<table border=\"1\" class=\"dataframe\">\n",
       "  <thead>\n",
       "    <tr style=\"text-align: right;\">\n",
       "      <th></th>\n",
       "      <th>red</th>\n",
       "      <th>blue</th>\n",
       "      <th>pin</th>\n",
       "      <th>dress</th>\n",
       "      <th>red pin</th>\n",
       "      <th>pin red</th>\n",
       "      <th>red dress</th>\n",
       "      <th>dress red</th>\n",
       "      <th>blue pin</th>\n",
       "      <th>pin blue</th>\n",
       "      <th>blue dress</th>\n",
       "      <th>dress blue</th>\n",
       "    </tr>\n",
       "  </thead>\n",
       "  <tbody>\n",
       "    <tr>\n",
       "      <th>red pin</th>\n",
       "      <td>0.056629</td>\n",
       "      <td>0.000008</td>\n",
       "      <td>6.408710e-02</td>\n",
       "      <td>6.604882e-08</td>\n",
       "      <td>4.395734e-01</td>\n",
       "      <td>4.395734e-01</td>\n",
       "      <td>4.530289e-07</td>\n",
       "      <td>4.530289e-07</td>\n",
       "      <td>6.408710e-05</td>\n",
       "      <td>6.408710e-05</td>\n",
       "      <td>6.604882e-11</td>\n",
       "      <td>6.604882e-11</td>\n",
       "    </tr>\n",
       "    <tr>\n",
       "      <th>red dress</th>\n",
       "      <td>0.056629</td>\n",
       "      <td>0.000008</td>\n",
       "      <td>6.604882e-08</td>\n",
       "      <td>6.408710e-02</td>\n",
       "      <td>4.530289e-07</td>\n",
       "      <td>4.530289e-07</td>\n",
       "      <td>4.395734e-01</td>\n",
       "      <td>4.395734e-01</td>\n",
       "      <td>6.604882e-11</td>\n",
       "      <td>6.604882e-11</td>\n",
       "      <td>6.408710e-05</td>\n",
       "      <td>6.408710e-05</td>\n",
       "    </tr>\n",
       "    <tr>\n",
       "      <th>blue pin</th>\n",
       "      <td>0.000008</td>\n",
       "      <td>0.056629</td>\n",
       "      <td>6.408710e-02</td>\n",
       "      <td>6.604882e-08</td>\n",
       "      <td>6.408710e-05</td>\n",
       "      <td>6.408710e-05</td>\n",
       "      <td>6.604882e-11</td>\n",
       "      <td>6.604882e-11</td>\n",
       "      <td>4.395734e-01</td>\n",
       "      <td>4.395734e-01</td>\n",
       "      <td>4.530289e-07</td>\n",
       "      <td>4.530289e-07</td>\n",
       "    </tr>\n",
       "    <tr>\n",
       "      <th>blue dress</th>\n",
       "      <td>0.000008</td>\n",
       "      <td>0.056629</td>\n",
       "      <td>6.604882e-08</td>\n",
       "      <td>6.408710e-02</td>\n",
       "      <td>6.604882e-11</td>\n",
       "      <td>6.604882e-11</td>\n",
       "      <td>6.408710e-05</td>\n",
       "      <td>6.408710e-05</td>\n",
       "      <td>4.530289e-07</td>\n",
       "      <td>4.530289e-07</td>\n",
       "      <td>4.395734e-01</td>\n",
       "      <td>4.395734e-01</td>\n",
       "    </tr>\n",
       "  </tbody>\n",
       "</table>\n",
       "</div>"
      ],
      "text/plain": [
       "                 red      blue           pin         dress       red pin  \\\n",
       "red pin     0.056629  0.000008  6.408710e-02  6.604882e-08  4.395734e-01   \n",
       "red dress   0.056629  0.000008  6.604882e-08  6.408710e-02  4.530289e-07   \n",
       "blue pin    0.000008  0.056629  6.408710e-02  6.604882e-08  6.408710e-05   \n",
       "blue dress  0.000008  0.056629  6.604882e-08  6.408710e-02  6.604882e-11   \n",
       "\n",
       "                 pin red     red dress     dress red      blue pin  \\\n",
       "red pin     4.395734e-01  4.530289e-07  4.530289e-07  6.408710e-05   \n",
       "red dress   4.530289e-07  4.395734e-01  4.395734e-01  6.604882e-11   \n",
       "blue pin    6.408710e-05  6.604882e-11  6.604882e-11  4.395734e-01   \n",
       "blue dress  6.604882e-11  6.408710e-05  6.408710e-05  4.530289e-07   \n",
       "\n",
       "                pin blue    blue dress    dress blue  \n",
       "red pin     6.408710e-05  6.604882e-11  6.604882e-11  \n",
       "red dress   6.604882e-11  6.408710e-05  6.408710e-05  \n",
       "blue pin    4.395734e-01  4.530289e-07  4.530289e-07  \n",
       "blue dress  4.530289e-07  4.395734e-01  4.395734e-01  "
      ]
     },
     "execution_count": 17,
     "metadata": {},
     "output_type": "execute_result"
    }
   ],
   "source": [
    "s1_df, s1_probs = pragmatic_speaker({'color': 'red', 'shape': 'pin', 'string': 'red pin'}, alpha=3)\n",
    "s1_df"
   ]
  },
  {
   "cell_type": "code",
   "execution_count": 18,
   "id": "c4d33d63",
   "metadata": {},
   "outputs": [
    {
     "data": {
      "text/plain": [
       "red           5.662861e-02\n",
       "blue          8.256102e-06\n",
       "pin           6.408710e-02\n",
       "dress         6.604882e-08\n",
       "red pin       4.395734e-01\n",
       "pin red       4.395734e-01\n",
       "red dress     4.530289e-07\n",
       "dress red     4.530289e-07\n",
       "blue pin      6.408710e-05\n",
       "pin blue      6.408710e-05\n",
       "blue dress    6.604882e-11\n",
       "dress blue    6.604882e-11\n",
       "Name: red pin, dtype: float64"
      ]
     },
     "execution_count": 18,
     "metadata": {},
     "output_type": "execute_result"
    }
   ],
   "source": [
    "s1_probs"
   ]
  },
  {
   "cell_type": "markdown",
   "id": "bf4ee744",
   "metadata": {},
   "source": [
    "While this is a neat exercise, we notice that the utterances 'blue pin' and 'pin blue' have the same probability. This is not the behavior we want: our model should favor one utterance ordering over another. Thus to break this symmetry, we move to the incremental setting."
   ]
  },
  {
   "cell_type": "markdown",
   "id": "fef28192",
   "metadata": {},
   "source": [
    "## Part 2: Incremental continuous RSA\n",
    "\n",
    "In this part, we will be extending continuous semantics RSA to model utterances _incrementally_ rather than globally. "
   ]
  },
  {
   "cell_type": "markdown",
   "id": "8985ea6f",
   "metadata": {},
   "source": [
    "### Define incremental continuous meaning function\n",
    "\n",
    "Following Cohn-Gordon et al. 2019:\n",
    "\n",
    "For any partial sequence $c$, object $w$ and set of referents $W$, \n",
    "\n",
    "$[[c]](w) \\in [0, 1]$ is the number of full-utterance extensions of $c$ true for $w$, divided by the number of possible extensions of $c$ into full utterances that are true of any object in $W$.\n",
    "\n",
    "The following function is our implementation of that meaning function:"
   ]
  },
  {
   "cell_type": "code",
   "execution_count": 19,
   "id": "40bcbec9",
   "metadata": {},
   "outputs": [],
   "source": [
    "def inc_cont_meaning(obj, utt):\n",
    "    num_true_extensions = []\n",
    "    num_possible_extensions = []\n",
    "    \n",
    "    utility = 0\n",
    "    for curr_utt in utterances:\n",
    "        \n",
    "        utt_starts_with = curr_utt.startswith(utt)\n",
    "        \n",
    "        if utt_starts_with:\n",
    "            num_possible_extensions.append(curr_utt)\n",
    "            \n",
    "            curr_utt_as_tokens = curr_utt.split()\n",
    "            utility += continuous_meaning(obj, utt)\n",
    "            \n",
    "    return utility/len(num_possible_extensions)"
   ]
  },
  {
   "cell_type": "code",
   "execution_count": 20,
   "id": "3690ecaf",
   "metadata": {},
   "outputs": [
    {
     "data": {
      "text/plain": [
       "0.9499999999999998"
      ]
     },
     "execution_count": 20,
     "metadata": {},
     "output_type": "execute_result"
    }
   ],
   "source": [
    "inc_cont_meaning({'color': 'red', 'shape': 'pin', 'string': 'red pin'}, 'red')"
   ]
  },
  {
   "cell_type": "markdown",
   "id": "da6a2801",
   "metadata": {},
   "source": [
    "### Word-level literal listener\n",
    "\n",
    "In incremental RSA, utterances are processed at the word level. The only difference between the standard literal listener and the word-level literal listener is that the word-level $L_0^{\\text{WORD}}$ should only accept a single word as an argument.\n",
    "\n",
    "We show the implementation here for the sake of completeness, but this is interchangeable with the `literal_listener` function defined earlier."
   ]
  },
  {
   "cell_type": "code",
   "execution_count": 21,
   "id": "caec52ad",
   "metadata": {},
   "outputs": [],
   "source": [
    "def word_level_literal_listener(word, meaning_fn):\n",
    "    # generate the matrix of utterances x world states\n",
    "    all_counts = np.zeros(shape=(len(utterances), len(objects)))\n",
    "    for i in range(len(utterances)):\n",
    "        for j in range(len(objects)):\n",
    "            curr_utt = utterances[i]\n",
    "            curr_obj = objects[j]\n",
    "\n",
    "            all_counts[i, j] = meaning_fn(curr_obj, curr_utt)\n",
    "    \n",
    "    data = normalize_rows(all_counts)\n",
    "    df_cols = [obj[\"string\"] for obj in objects]\n",
    "    df = pd.DataFrame(data, columns=df_cols, index=utterances)\n",
    "    return df, df.loc[word]"
   ]
  },
  {
   "cell_type": "code",
   "execution_count": 22,
   "id": "dd9a3173",
   "metadata": {},
   "outputs": [
    {
     "data": {
      "text/html": [
       "<div>\n",
       "<style scoped>\n",
       "    .dataframe tbody tr th:only-of-type {\n",
       "        vertical-align: middle;\n",
       "    }\n",
       "\n",
       "    .dataframe tbody tr th {\n",
       "        vertical-align: top;\n",
       "    }\n",
       "\n",
       "    .dataframe thead th {\n",
       "        text-align: right;\n",
       "    }\n",
       "</style>\n",
       "<table border=\"1\" class=\"dataframe\">\n",
       "  <thead>\n",
       "    <tr style=\"text-align: right;\">\n",
       "      <th></th>\n",
       "      <th>red pin</th>\n",
       "      <th>red dress</th>\n",
       "      <th>blue pin</th>\n",
       "      <th>blue dress</th>\n",
       "    </tr>\n",
       "  </thead>\n",
       "  <tbody>\n",
       "    <tr>\n",
       "      <th>red</th>\n",
       "      <td>0.4750</td>\n",
       "      <td>0.4750</td>\n",
       "      <td>0.0250</td>\n",
       "      <td>0.0250</td>\n",
       "    </tr>\n",
       "    <tr>\n",
       "      <th>blue</th>\n",
       "      <td>0.0250</td>\n",
       "      <td>0.0250</td>\n",
       "      <td>0.4750</td>\n",
       "      <td>0.4750</td>\n",
       "    </tr>\n",
       "    <tr>\n",
       "      <th>pin</th>\n",
       "      <td>0.4950</td>\n",
       "      <td>0.0050</td>\n",
       "      <td>0.4950</td>\n",
       "      <td>0.0050</td>\n",
       "    </tr>\n",
       "    <tr>\n",
       "      <th>dress</th>\n",
       "      <td>0.0050</td>\n",
       "      <td>0.4950</td>\n",
       "      <td>0.0050</td>\n",
       "      <td>0.4950</td>\n",
       "    </tr>\n",
       "    <tr>\n",
       "      <th>red pin</th>\n",
       "      <td>0.9405</td>\n",
       "      <td>0.0095</td>\n",
       "      <td>0.0495</td>\n",
       "      <td>0.0005</td>\n",
       "    </tr>\n",
       "    <tr>\n",
       "      <th>pin red</th>\n",
       "      <td>0.9405</td>\n",
       "      <td>0.0095</td>\n",
       "      <td>0.0495</td>\n",
       "      <td>0.0005</td>\n",
       "    </tr>\n",
       "    <tr>\n",
       "      <th>red dress</th>\n",
       "      <td>0.0095</td>\n",
       "      <td>0.9405</td>\n",
       "      <td>0.0005</td>\n",
       "      <td>0.0495</td>\n",
       "    </tr>\n",
       "    <tr>\n",
       "      <th>dress red</th>\n",
       "      <td>0.0095</td>\n",
       "      <td>0.9405</td>\n",
       "      <td>0.0005</td>\n",
       "      <td>0.0495</td>\n",
       "    </tr>\n",
       "    <tr>\n",
       "      <th>blue pin</th>\n",
       "      <td>0.0495</td>\n",
       "      <td>0.0005</td>\n",
       "      <td>0.9405</td>\n",
       "      <td>0.0095</td>\n",
       "    </tr>\n",
       "    <tr>\n",
       "      <th>pin blue</th>\n",
       "      <td>0.0495</td>\n",
       "      <td>0.0005</td>\n",
       "      <td>0.9405</td>\n",
       "      <td>0.0095</td>\n",
       "    </tr>\n",
       "    <tr>\n",
       "      <th>blue dress</th>\n",
       "      <td>0.0005</td>\n",
       "      <td>0.0495</td>\n",
       "      <td>0.0095</td>\n",
       "      <td>0.9405</td>\n",
       "    </tr>\n",
       "    <tr>\n",
       "      <th>dress blue</th>\n",
       "      <td>0.0005</td>\n",
       "      <td>0.0495</td>\n",
       "      <td>0.0095</td>\n",
       "      <td>0.9405</td>\n",
       "    </tr>\n",
       "  </tbody>\n",
       "</table>\n",
       "</div>"
      ],
      "text/plain": [
       "            red pin  red dress  blue pin  blue dress\n",
       "red          0.4750     0.4750    0.0250      0.0250\n",
       "blue         0.0250     0.0250    0.4750      0.4750\n",
       "pin          0.4950     0.0050    0.4950      0.0050\n",
       "dress        0.0050     0.4950    0.0050      0.4950\n",
       "red pin      0.9405     0.0095    0.0495      0.0005\n",
       "pin red      0.9405     0.0095    0.0495      0.0005\n",
       "red dress    0.0095     0.9405    0.0005      0.0495\n",
       "dress red    0.0095     0.9405    0.0005      0.0495\n",
       "blue pin     0.0495     0.0005    0.9405      0.0095\n",
       "pin blue     0.0495     0.0005    0.9405      0.0095\n",
       "blue dress   0.0005     0.0495    0.0095      0.9405\n",
       "dress blue   0.0005     0.0495    0.0095      0.9405"
      ]
     },
     "execution_count": 22,
     "metadata": {},
     "output_type": "execute_result"
    }
   ],
   "source": [
    "df_word_level_l0, _ = word_level_literal_listener('red', inc_cont_meaning)\n",
    "df_word_level_l0"
   ]
  },
  {
   "cell_type": "markdown",
   "id": "3b0a8cac",
   "metadata": {},
   "source": [
    "### Word-level pragmatic speaker\n",
    "\n",
    "First, we define the helper function `get_possible_completions`:"
   ]
  },
  {
   "cell_type": "code",
   "execution_count": 23,
   "id": "2e628089",
   "metadata": {},
   "outputs": [],
   "source": [
    "def get_possible_completions(utt):\n",
    "    \"\"\"\n",
    "    Given a partial utterance, return all the possible completions\n",
    "    \"\"\"\n",
    "    max_utt_len = len(utt.split()) + 1\n",
    "    \n",
    "    possible_completions = []\n",
    "    for curr_utt in utterances:\n",
    "        if curr_utt.startswith(utt) and len(curr_utt.split()) <= max_utt_len:\n",
    "            possible_completions.append(curr_utt)\n",
    "            \n",
    "    return possible_completions"
   ]
  },
  {
   "cell_type": "code",
   "execution_count": 24,
   "id": "e3bef902",
   "metadata": {},
   "outputs": [
    {
     "data": {
      "text/plain": [
       "['red', 'red pin', 'red dress']"
      ]
     },
     "execution_count": 24,
     "metadata": {},
     "output_type": "execute_result"
    }
   ],
   "source": [
    "get_possible_completions('red')"
   ]
  },
  {
   "cell_type": "markdown",
   "id": "10b8cfc2",
   "metadata": {},
   "source": [
    "Now we can define the word-level pragmatic speaker $S_1^{\\text{WORD}}$. The key difference here between this and standard RSA is that you are only iterating over the utterances that are possible completions of the context, and _not_ all possible utterances. Thus, we need to pass in `context` as an argument."
   ]
  },
  {
   "cell_type": "code",
   "execution_count": 25,
   "id": "b36cd1b7",
   "metadata": {},
   "outputs": [],
   "source": [
    "def word_level_pragmatic_speaker(obj, context, alpha, v_adj, v_noun):\n",
    "    all_vals = []\n",
    "    possible_utterances = get_possible_completions(context)\n",
    "    for curr_utt in possible_utterances:\n",
    "        _, probs = word_level_literal_listener(curr_utt, meaning_fn=inc_cont_meaning) # specify meaning_fn here\n",
    "        utility = np.array(probs)\n",
    "        val = np.exp(alpha * (np.log(utility) - cost(curr_utt)))\n",
    "        all_vals.append(val)\n",
    "    data = normalize_rows(np.array(all_vals).T)\n",
    "    df_idx = [obj[\"string\"] for obj in objects]\n",
    "    df = pd.DataFrame(data, columns=possible_utterances, index=df_idx)\n",
    "    \n",
    "    return df, df.loc[obj[\"string\"]]"
   ]
  },
  {
   "cell_type": "code",
   "execution_count": 26,
   "id": "2f4f6ae3",
   "metadata": {},
   "outputs": [
    {
     "data": {
      "text/html": [
       "<div>\n",
       "<style scoped>\n",
       "    .dataframe tbody tr th:only-of-type {\n",
       "        vertical-align: middle;\n",
       "    }\n",
       "\n",
       "    .dataframe tbody tr th {\n",
       "        vertical-align: top;\n",
       "    }\n",
       "\n",
       "    .dataframe thead th {\n",
       "        text-align: right;\n",
       "    }\n",
       "</style>\n",
       "<table border=\"1\" class=\"dataframe\">\n",
       "  <thead>\n",
       "    <tr style=\"text-align: right;\">\n",
       "      <th></th>\n",
       "      <th>red</th>\n",
       "      <th>red pin</th>\n",
       "      <th>red dress</th>\n",
       "    </tr>\n",
       "  </thead>\n",
       "  <tbody>\n",
       "    <tr>\n",
       "      <th>red pin</th>\n",
       "      <td>0.031815</td>\n",
       "      <td>9.681850e-01</td>\n",
       "      <td>1.018081e-10</td>\n",
       "    </tr>\n",
       "    <tr>\n",
       "      <th>red dress</th>\n",
       "      <td>0.031815</td>\n",
       "      <td>1.018081e-10</td>\n",
       "      <td>9.681850e-01</td>\n",
       "    </tr>\n",
       "    <tr>\n",
       "      <th>blue pin</th>\n",
       "      <td>0.031815</td>\n",
       "      <td>9.681850e-01</td>\n",
       "      <td>1.018081e-10</td>\n",
       "    </tr>\n",
       "    <tr>\n",
       "      <th>blue dress</th>\n",
       "      <td>0.031815</td>\n",
       "      <td>1.018081e-10</td>\n",
       "      <td>9.681850e-01</td>\n",
       "    </tr>\n",
       "  </tbody>\n",
       "</table>\n",
       "</div>"
      ],
      "text/plain": [
       "                 red       red pin     red dress\n",
       "red pin     0.031815  9.681850e-01  1.018081e-10\n",
       "red dress   0.031815  1.018081e-10  9.681850e-01\n",
       "blue pin    0.031815  9.681850e-01  1.018081e-10\n",
       "blue dress  0.031815  1.018081e-10  9.681850e-01"
      ]
     },
     "execution_count": 26,
     "metadata": {},
     "output_type": "execute_result"
    }
   ],
   "source": [
    "df_word_level_s1, _ = word_level_pragmatic_speaker({'color': 'red', 'shape': 'pin', 'string': 'red pin'}, context = 'red', alpha=5, v_adj=0.95, v_noun=0.99)\n",
    "df_word_level_s1"
   ]
  },
  {
   "cell_type": "markdown",
   "id": "9d1853b3",
   "metadata": {},
   "source": [
    "### Utterance level incremental pragmatic speaker\n",
    "\n",
    "Finally, we can define the utterance level incremental pragmatic speaker $S_1^{\\text{UTT}}$. Following the definition from Cohn-Gordon et al. 2019:\n",
    "\n",
    "For a complete utterance $u$ and object $w$:\n",
    "\n",
    "$S_1^{\\text{UTT}}(u \\vert w) = \\prod_{i=1}^n S_1^{\\text{WORD}}(u_i \\vert c=[u_1...u_{i-1}], w)$\n",
    "\n",
    "where $c$ is the partial utterance up until index $i$."
   ]
  },
  {
   "cell_type": "code",
   "execution_count": 27,
   "id": "647084c1",
   "metadata": {},
   "outputs": [],
   "source": [
    "def incremental_pragmatic_speaker(obj, utt, alpha=5, v_adj=0.95, v_noun=0.99):\n",
    "    all_vals = []\n",
    "    utt_len = len(utt.split())\n",
    "    context = ''\n",
    "    val = 1\n",
    "    for i in range(utt_len):\n",
    "\n",
    "        _, probs = word_level_pragmatic_speaker(obj, context, alpha, v_adj, v_noun)\n",
    "        partial_utt = \" \".join(utt.split()[:i+1])\n",
    "        index_of_partial_utt = list(probs.index).index(partial_utt)\n",
    "\n",
    "        val *= list(probs)[index_of_partial_utt]\n",
    "        \n",
    "        context = partial_utt\n",
    "\n",
    "    return val"
   ]
  },
  {
   "cell_type": "markdown",
   "id": "e31ae0b5",
   "metadata": {},
   "source": [
    "Finally, we can see how the continuous incremental RSA model makes predictions about the probability of the utterance 'red pin' vs. 'pin red':"
   ]
  },
  {
   "cell_type": "code",
   "execution_count": 28,
   "id": "78a3b26f",
   "metadata": {},
   "outputs": [
    {
     "data": {
      "text/plain": [
       "0.4343550191544007"
      ]
     },
     "execution_count": 28,
     "metadata": {},
     "output_type": "execute_result"
    }
   ],
   "source": [
    "incremental_pragmatic_speaker({'color': 'red', 'shape': 'pin', 'string': 'red pin'}, 'red pin')"
   ]
  },
  {
   "cell_type": "code",
   "execution_count": 29,
   "id": "cce354d2",
   "metadata": {},
   "outputs": [
    {
     "data": {
      "text/plain": [
       "0.5299681170538035"
      ]
     },
     "execution_count": 29,
     "metadata": {},
     "output_type": "execute_result"
    }
   ],
   "source": [
    "incremental_pragmatic_speaker({'color': 'red', 'shape': 'pin', 'string': 'red pin'}, 'pin red')"
   ]
  },
  {
   "cell_type": "markdown",
   "id": "16e0920c",
   "metadata": {},
   "source": [
    "We see that under the given assumptions, namely that adjectives are noisier than nouns, the model predicts that 'pin red', i.e. the postnominal ordering is favored."
   ]
  },
  {
   "cell_type": "code",
   "execution_count": null,
   "id": "bc193f61",
   "metadata": {},
   "outputs": [],
   "source": []
  }
 ],
 "metadata": {
  "kernelspec": {
   "display_name": "Python 3 (ipykernel)",
   "language": "python",
   "name": "python3"
  },
  "language_info": {
   "codemirror_mode": {
    "name": "ipython",
    "version": 3
   },
   "file_extension": ".py",
   "mimetype": "text/x-python",
   "name": "python",
   "nbconvert_exporter": "python",
   "pygments_lexer": "ipython3",
   "version": "3.9.7"
  }
 },
 "nbformat": 4,
 "nbformat_minor": 5
}
