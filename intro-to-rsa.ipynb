{
 "cells": [
  {
   "cell_type": "markdown",
   "id": "9b1bf385",
   "metadata": {},
   "source": [
    "# Introduction to RSA (in Python)\n",
    "\n",
    "This tutorial was adopted from the first chapter of the ProbLang textbook: https://www.problang.org/chapters/01-introduction.html\n",
    "\n",
    "The primary difference is that everything is implemented in Python. Probabilistic programming languages like WebPPL give us a nice abstraction for inferring and sampling from distributions, but it turns out that we don't actually need to do anything fancy for simple RSA. We can compute posteriors by enumeration, a.k.a. just applying the exact mathematical formulas.\n",
    "\n",
    "If this is your first time with RSA, I would highly recommend reading the linked chapter. This is mostly just an exercise in translating to Python."
   ]
  },
  {
   "cell_type": "code",
   "execution_count": 1,
   "id": "735e6ea1",
   "metadata": {},
   "outputs": [],
   "source": [
    "import numpy as np\n",
    "import pandas as pd"
   ]
  },
  {
   "cell_type": "markdown",
   "id": "ea629eee",
   "metadata": {},
   "source": [
    "## Define objects and utterances\n",
    "\n",
    "First, we define the objects in the world (which we likewise refer to as the set of _world states_), as well as the possible utterances."
   ]
  },
  {
   "cell_type": "code",
   "execution_count": 2,
   "id": "4269b88f",
   "metadata": {},
   "outputs": [],
   "source": [
    "objects = [\n",
    "            {\"color\": \"blue\", \"shape\": \"square\", \"string\": \"blue square\"},\n",
    "            {\"color\": \"blue\", \"shape\": \"circle\", \"string\": \"blue circle\"},\n",
    "            {\"color\": \"green\", \"shape\": \"square\", \"string\": \"green square\"}\n",
    "]\n",
    "utterances = [\"blue\", \"green\", \"square\", \"circle\"]"
   ]
  },
  {
   "cell_type": "markdown",
   "id": "3247fa92",
   "metadata": {},
   "source": [
    "Next, we define a meaning function that uses simple Boolean semantics: it returns True if the utterance is true of the object, and false otherwise."
   ]
  },
  {
   "cell_type": "code",
   "execution_count": 3,
   "id": "c0693345",
   "metadata": {},
   "outputs": [],
   "source": [
    "def meaning(obj, utt):\n",
    "    return (utt == obj[\"color\"]) or (utt == obj[\"shape\"])"
   ]
  },
  {
   "cell_type": "markdown",
   "id": "f20487ef",
   "metadata": {},
   "source": [
    "Run the following cell to see how the meaning function works:"
   ]
  },
  {
   "cell_type": "code",
   "execution_count": 4,
   "id": "622a4858",
   "metadata": {},
   "outputs": [
    {
     "data": {
      "text/plain": [
       "False"
      ]
     },
     "execution_count": 4,
     "metadata": {},
     "output_type": "execute_result"
    }
   ],
   "source": [
    "meaning({\"color\": \"blue\", \"shape\": \"square\"}, \"circle\")"
   ]
  },
  {
   "cell_type": "markdown",
   "id": "0337371a",
   "metadata": {},
   "source": [
    "## Literal listener\n",
    "\n",
    "The literal listener is then defined via a function that maps utterances to a probability distribution over world states. The function is defined as follows:\n",
    "\n",
    "$$P_{L_0}(s∣u) \\propto [[u]](s) \\cdot P(s)$$\n",
    "\n",
    "where $[[u]](s)$ is the meaning function.\n",
    "\n",
    "We'll define a helper function `normalize_rows` that will be useful for successive calculations."
   ]
  },
  {
   "cell_type": "code",
   "execution_count": 5,
   "id": "323d495c",
   "metadata": {},
   "outputs": [],
   "source": [
    "def normalize_rows(matrix):\n",
    "    \"\"\"\n",
    "    Helper function that normalize probabilities across rows to sum to 1\n",
    "    \"\"\"\n",
    "    totals = np.sum(matrix, axis=1)\n",
    "    return matrix / totals[:, np.newaxis]"
   ]
  },
  {
   "cell_type": "code",
   "execution_count": 6,
   "id": "09c17a3b",
   "metadata": {},
   "outputs": [],
   "source": [
    "def literal_listener(utt):\n",
    "    \"\"\"\n",
    "    Simulate a literal listener\n",
    "    \n",
    "    Arguments:\n",
    "    utt: string that represents what is heard by the listener\n",
    "    \n",
    "    Return:\n",
    "    df: pd.DataFrame of object probabilities for all possible utterances\n",
    "    probs: pd.Series of the object probabilities associated with the given utterance\n",
    "    \"\"\"\n",
    "    # generate the matrix of utterances x world states\n",
    "    all_counts = np.zeros(shape=(len(utterances), len(objects)))\n",
    "    for i in range(len(utterances)):\n",
    "        for j in range(len(objects)):\n",
    "            curr_utt = utterances[i]\n",
    "            curr_obj = objects[j]\n",
    "\n",
    "            if meaning(curr_obj, curr_utt): all_counts[i, j] = 1\n",
    "            # if I wanted to incorporate a prior I would do it here\n",
    "                \n",
    "    data = normalize_rows(all_counts)\n",
    "    df_cols = [obj[\"string\"] for obj in objects]\n",
    "    df = pd.DataFrame(data, columns=df_cols, index=utterances)\n",
    "    return df, df.loc[utt]"
   ]
  },
  {
   "cell_type": "code",
   "execution_count": 10,
   "id": "452f6d9e",
   "metadata": {},
   "outputs": [
    {
     "data": {
      "text/html": [
       "<div>\n",
       "<style scoped>\n",
       "    .dataframe tbody tr th:only-of-type {\n",
       "        vertical-align: middle;\n",
       "    }\n",
       "\n",
       "    .dataframe tbody tr th {\n",
       "        vertical-align: top;\n",
       "    }\n",
       "\n",
       "    .dataframe thead th {\n",
       "        text-align: right;\n",
       "    }\n",
       "</style>\n",
       "<table border=\"1\" class=\"dataframe\">\n",
       "  <thead>\n",
       "    <tr style=\"text-align: right;\">\n",
       "      <th></th>\n",
       "      <th>blue square</th>\n",
       "      <th>blue circle</th>\n",
       "      <th>green square</th>\n",
       "    </tr>\n",
       "  </thead>\n",
       "  <tbody>\n",
       "    <tr>\n",
       "      <th>blue</th>\n",
       "      <td>0.5</td>\n",
       "      <td>0.5</td>\n",
       "      <td>0.0</td>\n",
       "    </tr>\n",
       "    <tr>\n",
       "      <th>green</th>\n",
       "      <td>0.0</td>\n",
       "      <td>0.0</td>\n",
       "      <td>1.0</td>\n",
       "    </tr>\n",
       "    <tr>\n",
       "      <th>square</th>\n",
       "      <td>0.5</td>\n",
       "      <td>0.0</td>\n",
       "      <td>0.5</td>\n",
       "    </tr>\n",
       "    <tr>\n",
       "      <th>circle</th>\n",
       "      <td>0.0</td>\n",
       "      <td>1.0</td>\n",
       "      <td>0.0</td>\n",
       "    </tr>\n",
       "  </tbody>\n",
       "</table>\n",
       "</div>"
      ],
      "text/plain": [
       "        blue square  blue circle  green square\n",
       "blue            0.5          0.5           0.0\n",
       "green           0.0          0.0           1.0\n",
       "square          0.5          0.0           0.5\n",
       "circle          0.0          1.0           0.0"
      ]
     },
     "execution_count": 10,
     "metadata": {},
     "output_type": "execute_result"
    }
   ],
   "source": [
    "df_l0, probs_l0 = literal_listener(\"square\")\n",
    "df_l0"
   ]
  },
  {
   "cell_type": "code",
   "execution_count": 11,
   "id": "3f562731",
   "metadata": {},
   "outputs": [
    {
     "data": {
      "text/plain": [
       "blue square     0.5\n",
       "blue circle     0.0\n",
       "green square    0.5\n",
       "Name: square, dtype: float64"
      ]
     },
     "execution_count": 11,
     "metadata": {},
     "output_type": "execute_result"
    }
   ],
   "source": [
    "probs_l0"
   ]
  },
  {
   "cell_type": "markdown",
   "id": "f9a4e57a",
   "metadata": {},
   "source": [
    "## Pragmatic speaker\n",
    "\n",
    "Now we take into account a speaker's utility function\n",
    "\n",
    "$$U_{S_1}(u;s) = \\log L_0(s∣u) − C(u)$$\n",
    "\n",
    "as part of our expression for the pragmatic speaker, which is a function that maps probabilities over world states to utterances. Formally, it is defined as\n",
    "\n",
    "$$P_{S_1}(u∣s) \\propto \\exp(\\alpha \\cdot U_{S_1}(u;s)),$$\n",
    "which expands to\n",
    "$$P_{S_1}(u∣s) \\propto \\exp(\\alpha \\cdot (\\log L_0(s∣u) − C(u))).$$\n",
    "\n",
    "Let's ignore $C(u)$ for now."
   ]
  },
  {
   "cell_type": "code",
   "execution_count": 12,
   "id": "3a1dc381",
   "metadata": {},
   "outputs": [],
   "source": [
    "def pragmatic_speaker(obj, alpha=1):\n",
    "    \"\"\"\n",
    "    Simulate the pragmatic speaker\n",
    "    \n",
    "    Arguments:\n",
    "    obj: dict to represent the object in the world that the speaker wishes to refer to\n",
    "    alpha: float for speaker optimality (default set to 1)\n",
    "    \n",
    "    Return:\n",
    "    df: pd.DataFrame of utterance probabilities for all possible objects in the world\n",
    "    probs: pd.Series of utterance probabilities for the specified object\n",
    "    \"\"\"\n",
    "    all_vals = []\n",
    "    for curr_utt in utterances:\n",
    "        _, probs = literal_listener(curr_utt)\n",
    "        utility = np.array(probs)\n",
    "        val = np.exp(alpha * np.log(utility))\n",
    "        all_vals.append(val)\n",
    "        \n",
    "    data = normalize_rows(np.array(all_vals).T)\n",
    "    df_idx = [obj[\"string\"] for obj in objects]\n",
    "    df = pd.DataFrame(data, columns=utterances, index=df_idx)\n",
    "    return df, df.loc[obj[\"string\"]]"
   ]
  },
  {
   "cell_type": "code",
   "execution_count": 13,
   "id": "dac0082e",
   "metadata": {},
   "outputs": [
    {
     "name": "stderr",
     "output_type": "stream",
     "text": [
      "/var/folders/wh/tk6j12kd7jq5djbxfn93wjdm0000gn/T/ipykernel_14878/3154548776.py:17: RuntimeWarning: divide by zero encountered in log\n",
      "  val = np.exp(alpha * np.log(utility))\n"
     ]
    },
    {
     "data": {
      "text/html": [
       "<div>\n",
       "<style scoped>\n",
       "    .dataframe tbody tr th:only-of-type {\n",
       "        vertical-align: middle;\n",
       "    }\n",
       "\n",
       "    .dataframe tbody tr th {\n",
       "        vertical-align: top;\n",
       "    }\n",
       "\n",
       "    .dataframe thead th {\n",
       "        text-align: right;\n",
       "    }\n",
       "</style>\n",
       "<table border=\"1\" class=\"dataframe\">\n",
       "  <thead>\n",
       "    <tr style=\"text-align: right;\">\n",
       "      <th></th>\n",
       "      <th>blue</th>\n",
       "      <th>green</th>\n",
       "      <th>square</th>\n",
       "      <th>circle</th>\n",
       "    </tr>\n",
       "  </thead>\n",
       "  <tbody>\n",
       "    <tr>\n",
       "      <th>blue square</th>\n",
       "      <td>0.500000</td>\n",
       "      <td>0.000000</td>\n",
       "      <td>0.500000</td>\n",
       "      <td>0.000000</td>\n",
       "    </tr>\n",
       "    <tr>\n",
       "      <th>blue circle</th>\n",
       "      <td>0.333333</td>\n",
       "      <td>0.000000</td>\n",
       "      <td>0.000000</td>\n",
       "      <td>0.666667</td>\n",
       "    </tr>\n",
       "    <tr>\n",
       "      <th>green square</th>\n",
       "      <td>0.000000</td>\n",
       "      <td>0.666667</td>\n",
       "      <td>0.333333</td>\n",
       "      <td>0.000000</td>\n",
       "    </tr>\n",
       "  </tbody>\n",
       "</table>\n",
       "</div>"
      ],
      "text/plain": [
       "                  blue     green    square    circle\n",
       "blue square   0.500000  0.000000  0.500000  0.000000\n",
       "blue circle   0.333333  0.000000  0.000000  0.666667\n",
       "green square  0.000000  0.666667  0.333333  0.000000"
      ]
     },
     "execution_count": 13,
     "metadata": {},
     "output_type": "execute_result"
    }
   ],
   "source": [
    "df_s1, probs_s1 = pragmatic_speaker({\"color\": \"blue\", \"shape\": \"square\", \"string\": \"blue square\"})\n",
    "df_s1"
   ]
  },
  {
   "cell_type": "code",
   "execution_count": 14,
   "id": "fde1ace4",
   "metadata": {},
   "outputs": [
    {
     "data": {
      "text/plain": [
       "blue      0.5\n",
       "green     0.0\n",
       "square    0.5\n",
       "circle    0.0\n",
       "Name: blue square, dtype: float64"
      ]
     },
     "execution_count": 14,
     "metadata": {},
     "output_type": "execute_result"
    }
   ],
   "source": [
    "probs_s1"
   ]
  },
  {
   "cell_type": "markdown",
   "id": "333651b6",
   "metadata": {},
   "source": [
    "## Pragmatic listener\n",
    "\n",
    "Finally, we can define the pragmatic listener as follows:\n",
    "\n",
    "$$P_{L_1}(s \\vert u) \\propto P_{S_1}(u \\vert s) \\cdot P(s)$$"
   ]
  },
  {
   "cell_type": "code",
   "execution_count": 26,
   "id": "da6b9b95",
   "metadata": {},
   "outputs": [],
   "source": [
    "def pragmatic_listener(utt):\n",
    "    all_vals = []\n",
    "    for curr_obj in objects:\n",
    "        _, probs = pragmatic_speaker(curr_obj)\n",
    "        all_vals.append(probs)\n",
    "\n",
    "    data = normalize_rows(np.array(all_vals).T)\n",
    "    df_cols = [obj[\"string\"] for obj in objects]\n",
    "    df = pd.DataFrame(data, columns=df_cols, index=utterances)\n",
    "    return df, df.loc[utt]"
   ]
  },
  {
   "cell_type": "code",
   "execution_count": 27,
   "id": "d76c6ed4",
   "metadata": {},
   "outputs": [
    {
     "name": "stderr",
     "output_type": "stream",
     "text": [
      "/var/folders/wh/tk6j12kd7jq5djbxfn93wjdm0000gn/T/ipykernel_14878/3154548776.py:17: RuntimeWarning: divide by zero encountered in log\n",
      "  val = np.exp(alpha * np.log(utility))\n"
     ]
    },
    {
     "data": {
      "text/html": [
       "<div>\n",
       "<style scoped>\n",
       "    .dataframe tbody tr th:only-of-type {\n",
       "        vertical-align: middle;\n",
       "    }\n",
       "\n",
       "    .dataframe tbody tr th {\n",
       "        vertical-align: top;\n",
       "    }\n",
       "\n",
       "    .dataframe thead th {\n",
       "        text-align: right;\n",
       "    }\n",
       "</style>\n",
       "<table border=\"1\" class=\"dataframe\">\n",
       "  <thead>\n",
       "    <tr style=\"text-align: right;\">\n",
       "      <th></th>\n",
       "      <th>blue square</th>\n",
       "      <th>blue circle</th>\n",
       "      <th>green square</th>\n",
       "    </tr>\n",
       "  </thead>\n",
       "  <tbody>\n",
       "    <tr>\n",
       "      <th>blue</th>\n",
       "      <td>0.6</td>\n",
       "      <td>0.4</td>\n",
       "      <td>0.0</td>\n",
       "    </tr>\n",
       "    <tr>\n",
       "      <th>green</th>\n",
       "      <td>0.0</td>\n",
       "      <td>0.0</td>\n",
       "      <td>1.0</td>\n",
       "    </tr>\n",
       "    <tr>\n",
       "      <th>square</th>\n",
       "      <td>0.6</td>\n",
       "      <td>0.0</td>\n",
       "      <td>0.4</td>\n",
       "    </tr>\n",
       "    <tr>\n",
       "      <th>circle</th>\n",
       "      <td>0.0</td>\n",
       "      <td>1.0</td>\n",
       "      <td>0.0</td>\n",
       "    </tr>\n",
       "  </tbody>\n",
       "</table>\n",
       "</div>"
      ],
      "text/plain": [
       "        blue square  blue circle  green square\n",
       "blue            0.6          0.4           0.0\n",
       "green           0.0          0.0           1.0\n",
       "square          0.6          0.0           0.4\n",
       "circle          0.0          1.0           0.0"
      ]
     },
     "execution_count": 27,
     "metadata": {},
     "output_type": "execute_result"
    }
   ],
   "source": [
    "df_l1, probs_l1 = pragmatic_listener('blue')\n",
    "df_l1"
   ]
  },
  {
   "cell_type": "code",
   "execution_count": 28,
   "id": "7d3d5d36",
   "metadata": {},
   "outputs": [
    {
     "data": {
      "text/plain": [
       "blue square     0.6\n",
       "blue circle     0.4\n",
       "green square    0.0\n",
       "Name: blue, dtype: float64"
      ]
     },
     "execution_count": 28,
     "metadata": {},
     "output_type": "execute_result"
    }
   ],
   "source": [
    "probs_l1"
   ]
  },
  {
   "cell_type": "markdown",
   "id": "2084404c",
   "metadata": {},
   "source": [
    "So this model predicts that a pragmatic listener who hears the utterance \"blue\" is more likely to think that the intended referent is the blue square."
   ]
  },
  {
   "cell_type": "code",
   "execution_count": null,
   "id": "f146d1df",
   "metadata": {},
   "outputs": [],
   "source": []
  }
 ],
 "metadata": {
  "kernelspec": {
   "display_name": "Python 3 (ipykernel)",
   "language": "python",
   "name": "python3"
  },
  "language_info": {
   "codemirror_mode": {
    "name": "ipython",
    "version": 3
   },
   "file_extension": ".py",
   "mimetype": "text/x-python",
   "name": "python",
   "nbconvert_exporter": "python",
   "pygments_lexer": "ipython3",
   "version": "3.9.7"
  }
 },
 "nbformat": 4,
 "nbformat_minor": 5
}
