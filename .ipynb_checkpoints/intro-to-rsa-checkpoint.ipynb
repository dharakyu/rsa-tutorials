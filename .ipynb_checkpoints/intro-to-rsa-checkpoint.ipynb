{
 "cells": [
  {
   "cell_type": "markdown",
   "id": "9b1bf385",
   "metadata": {},
   "source": [
    "# Introduction to the Rational Speech Acts (RSA) in Python\n",
    "\n",
    "This tutorial on the Rational Speech Acts (RSA) framework was adopted from the first chapter of the ProbLang textbook: https://www.problang.org/chapters/01-introduction.html\n",
    "\n",
    "The primary difference is that everything is implemented in Python. Probabilistic programming languages like WebPPL give us a nice abstraction for inferring and sampling from distributions, but it turns out that we don't actually need to do anything fancy for simple RSA. We can compute posteriors by enumeration, a.k.a. just applying the exact mathematical formulas.\n",
    "\n",
    "If this is your first time with RSA, I would highly recommend reading the linked chapter. This is mostly just an exercise in translating to Python."
   ]
  },
  {
   "cell_type": "markdown",
   "id": "4babe37e",
   "metadata": {},
   "source": [
    "## Overview: what is RSA?\n",
    "\n",
    "The RSA framework is situated within the larger tradition of probabilistic (Bayesian) models of cognition. The particular application is to pragmatics - the subfield of linguistics that deals with how people use external context to enrich the literal meaning of words.\n",
    "\n",
    "One example of pragmatic language inference can be seen in the following discourse:\n",
    "\n",
    "**Person 1**: What did you think of John? \\\n",
    "**Person 2**: John was nice.\n",
    "\n",
    "Here, Person 1 is going to infer that Person 2 thought that John was just ok, because if Person 2 had a really high opinion of John, they would have said something stronger (i.e \"John was fantastic\").\n",
    "\n",
    "RSA (Frank & Goodman, 2012) has helped us to formalize the principles that underlie these kind of inferences. At its core, RSA models pragmatic communication between speakers and listeners under the following assumptions: \n",
    "\n",
    "- Speakers and listeners **recursively reason** about each others' mental states\n",
    "- Speakers and listeners are **approximately rational**\n",
    "- Speakers and listeners are **approximately Bayesian**\n",
    "\n",
    "In this tutorial, we will see how these assumptions are implemented in precise mathematical terms, allowing us to make quantitative predictions which we can test against experimental data."
   ]
  },
  {
   "cell_type": "code",
   "execution_count": 1,
   "id": "735e6ea1",
   "metadata": {},
   "outputs": [],
   "source": [
    "import numpy as np\n",
    "import pandas as pd"
   ]
  },
  {
   "cell_type": "markdown",
   "id": "ea629eee",
   "metadata": {},
   "source": [
    "## Define objects and utterances\n",
    "\n",
    "We're going to use the same example from the textbook, which is a reference game, where a speaker attempts to convey an intended referrent to a listener who does not know that referent. Let's say our reference world consists of following objects:"
   ]
  },
  {
   "attachments": {
    "rsa_scene.png": {
     "image/png": "[encoded data removed]"
    }
   },
   "cell_type": "markdown",
   "id": "ea518d74",
   "metadata": {},
   "source": [
    "![rsa_scene.png](attachment:rsa_scene.png)"
   ]
  },
  {
   "cell_type": "markdown",
   "id": "b524e60a",
   "metadata": {},
   "source": [
    "So we'll say that that the set of world states, $S$, is comprised of the following:\n",
    "\n",
    "$S = \\{$blue square, blue circle, green square$\\}$.\n",
    "\n",
    "We'll also assume that the set of utterances that the speaker can use, $U$, is the following:\n",
    "\n",
    "$U = \\{$\"blue\", \"green\", \"square\", \"circle\"$\\}$"
   ]
  },
  {
   "cell_type": "markdown",
   "id": "6c470763",
   "metadata": {},
   "source": [
    "<div class=\"alert alert-block alert-info\">\n",
    "<b>Intuition check:</b> Let's say that you're playing this reference game, in the role of a listener. If the speaker said \"blue\" to you, which object do you think they're referring to? Why?\n",
    "</div>"
   ]
  },
  {
   "cell_type": "markdown",
   "id": "3a775746",
   "metadata": {},
   "source": [
    "Now with those preliminaries out of the way, let's translate $S$ and $U$ to code."
   ]
  },
  {
   "cell_type": "code",
   "execution_count": 2,
   "id": "4269b88f",
   "metadata": {},
   "outputs": [],
   "source": [
    "objects = [\n",
    "            {\"color\": \"blue\", \"shape\": \"square\", \"string\": \"blue square\"},\n",
    "            {\"color\": \"blue\", \"shape\": \"circle\", \"string\": \"blue circle\"},\n",
    "            {\"color\": \"green\", \"shape\": \"square\", \"string\": \"green square\"}\n",
    "]\n",
    "utterances = [\"blue\", \"green\", \"square\", \"circle\"]"
   ]
  },
  {
   "cell_type": "markdown",
   "id": "0337371a",
   "metadata": {},
   "source": [
    "## Literal listener\n",
    "\n",
    "The __literal listener__ is the bottom-most part of our recursive RSA model. It captures a listener who only understands meanings literally, i.e. without any kind of pragmatic inference. Formally, it is defined via a function that maps utterances to a probability distribution over world states. The function is defined as follows:\n",
    "\n",
    "$$P_{L_0}(s∣u) \\propto [[u]](s) \\cdot P(s)$$\n",
    "\n",
    "where $[[u]](s)$ is the meaning function. Intuitively, the meaning function should capture whether utterance $u$ is true of world state $s$. For example, a meaning function would tell us that saying \"blue\" to refer to the blue square is true, while saying \"blue\" to refer to anything green is false.\n",
    "\n",
    "Here we define it in code:"
   ]
  },
  {
   "cell_type": "code",
   "execution_count": 3,
   "id": "84fd1a54",
   "metadata": {},
   "outputs": [],
   "source": [
    "def meaning(obj, utt):\n",
    "    return (utt == obj[\"color\"]) or (utt == obj[\"shape\"])"
   ]
  },
  {
   "cell_type": "markdown",
   "id": "daf8506b",
   "metadata": {},
   "source": [
    "Run the following cell to see how the meaning function works:"
   ]
  },
  {
   "cell_type": "code",
   "execution_count": 4,
   "id": "5226f5ca",
   "metadata": {},
   "outputs": [
    {
     "data": {
      "text/plain": [
       "False"
      ]
     },
     "execution_count": 4,
     "metadata": {},
     "output_type": "execute_result"
    }
   ],
   "source": [
    "meaning({\"color\": \"blue\", \"shape\": \"square\"}, \"circle\")"
   ]
  },
  {
   "cell_type": "markdown",
   "id": "76bf7bbe",
   "metadata": {},
   "source": [
    "Before we actually implement the literal listener, we'll define a helper function `normalize_rows` that will be useful for successive calculations."
   ]
  },
  {
   "cell_type": "code",
   "execution_count": 5,
   "id": "323d495c",
   "metadata": {},
   "outputs": [],
   "source": [
    "def normalize_rows(matrix):\n",
    "    \"\"\"\n",
    "    Helper function that normalize probabilities across rows to sum to 1\n",
    "    \"\"\"\n",
    "    totals = np.sum(matrix, axis=1)\n",
    "    return matrix / totals[:, np.newaxis]"
   ]
  },
  {
   "cell_type": "markdown",
   "id": "4b11febf",
   "metadata": {},
   "source": [
    "Now we can implement our literal listener: given an utterance, it will produce a probability distribution over states."
   ]
  },
  {
   "cell_type": "code",
   "execution_count": 6,
   "id": "09c17a3b",
   "metadata": {},
   "outputs": [],
   "source": [
    "def literal_listener(utt):\n",
    "    \"\"\"\n",
    "    Simulate a literal listener\n",
    "    \n",
    "    Arguments:\n",
    "    utt: string that represents what is heard by the listener\n",
    "    \n",
    "    Return:\n",
    "    df: pd.DataFrame of object probabilities for all possible utterances\n",
    "    probs: pd.Series of the object probabilities associated with the given utterance\n",
    "    \"\"\"\n",
    "    # generate the matrix of utterances x world states\n",
    "    all_counts = np.zeros(shape=(len(utterances), len(objects)))\n",
    "    for i in range(len(utterances)):\n",
    "        for j in range(len(objects)):\n",
    "            curr_utt = utterances[i]\n",
    "            curr_obj = objects[j]\n",
    "\n",
    "            if meaning(curr_obj, curr_utt): all_counts[i, j] = 1\n",
    "            # if I wanted to incorporate a prior I would do it here\n",
    "                \n",
    "    data = normalize_rows(all_counts)\n",
    "    df_cols = [obj[\"string\"] for obj in objects]\n",
    "    df = pd.DataFrame(data, columns=df_cols, index=utterances)\n",
    "    return df, df.loc[utt]"
   ]
  },
  {
   "cell_type": "code",
   "execution_count": 7,
   "id": "452f6d9e",
   "metadata": {},
   "outputs": [
    {
     "data": {
      "text/html": [
       "<div>\n",
       "<style scoped>\n",
       "    .dataframe tbody tr th:only-of-type {\n",
       "        vertical-align: middle;\n",
       "    }\n",
       "\n",
       "    .dataframe tbody tr th {\n",
       "        vertical-align: top;\n",
       "    }\n",
       "\n",
       "    .dataframe thead th {\n",
       "        text-align: right;\n",
       "    }\n",
       "</style>\n",
       "<table border=\"1\" class=\"dataframe\">\n",
       "  <thead>\n",
       "    <tr style=\"text-align: right;\">\n",
       "      <th></th>\n",
       "      <th>blue square</th>\n",
       "      <th>blue circle</th>\n",
       "      <th>green square</th>\n",
       "    </tr>\n",
       "  </thead>\n",
       "  <tbody>\n",
       "    <tr>\n",
       "      <th>blue</th>\n",
       "      <td>0.5</td>\n",
       "      <td>0.5</td>\n",
       "      <td>0.0</td>\n",
       "    </tr>\n",
       "    <tr>\n",
       "      <th>green</th>\n",
       "      <td>0.0</td>\n",
       "      <td>0.0</td>\n",
       "      <td>1.0</td>\n",
       "    </tr>\n",
       "    <tr>\n",
       "      <th>square</th>\n",
       "      <td>0.5</td>\n",
       "      <td>0.0</td>\n",
       "      <td>0.5</td>\n",
       "    </tr>\n",
       "    <tr>\n",
       "      <th>circle</th>\n",
       "      <td>0.0</td>\n",
       "      <td>1.0</td>\n",
       "      <td>0.0</td>\n",
       "    </tr>\n",
       "  </tbody>\n",
       "</table>\n",
       "</div>"
      ],
      "text/plain": [
       "        blue square  blue circle  green square\n",
       "blue            0.5          0.5           0.0\n",
       "green           0.0          0.0           1.0\n",
       "square          0.5          0.0           0.5\n",
       "circle          0.0          1.0           0.0"
      ]
     },
     "execution_count": 7,
     "metadata": {},
     "output_type": "execute_result"
    }
   ],
   "source": [
    "df_l0, probs_l0 = literal_listener(\"square\")\n",
    "df_l0"
   ]
  },
  {
   "cell_type": "code",
   "execution_count": 8,
   "id": "3f562731",
   "metadata": {},
   "outputs": [
    {
     "data": {
      "text/plain": [
       "blue square     0.5\n",
       "blue circle     0.0\n",
       "green square    0.5\n",
       "Name: square, dtype: float64"
      ]
     },
     "execution_count": 8,
     "metadata": {},
     "output_type": "execute_result"
    }
   ],
   "source": [
    "probs_l0"
   ]
  },
  {
   "cell_type": "markdown",
   "id": "f32f702e",
   "metadata": {},
   "source": [
    "So what we see here is that if the literal listener hears \"square\", there is a 50% chance they think the intended referent is the blue square, a 50% change they think it's the green square, and a 0% chance they think it's the blue circle."
   ]
  },
  {
   "cell_type": "markdown",
   "id": "f9a4e57a",
   "metadata": {},
   "source": [
    "## Pragmatic speaker\n",
    "\n",
    "The pragmatic speaker is the next layer of the model. Intuitively, the pragmatic speaker is capturing the idea that the speaker is acting approximately rationally to select utterances that maximize the probability that the listener recovers the intended target. This is accomplished by introducing a speaker utility function\n",
    "\n",
    "$$U_{S_1}(u;s) = \\log L_0(s∣u) − C(u)$$\n",
    "\n",
    "which incorporates the literal listener $L_0$ (the first instance of recursion in our model). This is part of our full expression for the pragmatic speaker, which is a function that maps probabilities over world states to utterances. Formally, it is defined as\n",
    "\n",
    "$$P_{S_1}(u∣s) \\propto \\exp(\\alpha \\cdot U_{S_1}(u;s)),$$\n",
    "which expands to\n",
    "$$P_{S_1}(u∣s) \\propto \\exp(\\alpha \\cdot (\\log L_0(s∣u) − C(u))).$$\n",
    "\n",
    "The $\\exp(\\alpha)$ part is the softmax decision rule, which captures the approximate rationality component."
   ]
  },
  {
   "cell_type": "markdown",
   "id": "4ae13ba1",
   "metadata": {},
   "source": [
    "<div class=\"alert alert-block alert-info\">\n",
    "<b>Side note:</b> We're ignoring the cost term $C(u)$ for now, because we don't have time to talk about it detail, but I encourage you to read more about it in the textbook!\n",
    "</div>"
   ]
  },
  {
   "cell_type": "code",
   "execution_count": 9,
   "id": "3a1dc381",
   "metadata": {},
   "outputs": [],
   "source": [
    "def pragmatic_speaker(obj, alpha=1):\n",
    "    \"\"\"\n",
    "    Simulate the pragmatic speaker\n",
    "    \n",
    "    Arguments:\n",
    "    obj: dict to represent the object in the world that the speaker wishes to refer to\n",
    "    alpha: float for speaker optimality (default set to 1)\n",
    "    \n",
    "    Return:\n",
    "    df: pd.DataFrame of utterance probabilities for all possible objects in the world\n",
    "    probs: pd.Series of utterance probabilities for the specified object\n",
    "    \"\"\"\n",
    "    epsilon = 0.000000001\n",
    "    all_vals = []\n",
    "    for curr_utt in utterances:\n",
    "        _, probs = literal_listener(curr_utt)\n",
    "        utility = np.array(probs)\n",
    "        val = np.exp(alpha * np.log(utility + epsilon))\n",
    "        all_vals.append(val)\n",
    "        \n",
    "    data = normalize_rows(np.array(all_vals).T)\n",
    "    df_idx = [obj[\"string\"] for obj in objects]\n",
    "    df = pd.DataFrame(data, columns=utterances, index=df_idx)\n",
    "    return df, df.loc[obj[\"string\"]]"
   ]
  },
  {
   "cell_type": "code",
   "execution_count": 10,
   "id": "dac0082e",
   "metadata": {},
   "outputs": [
    {
     "data": {
      "text/html": [
       "<div>\n",
       "<style scoped>\n",
       "    .dataframe tbody tr th:only-of-type {\n",
       "        vertical-align: middle;\n",
       "    }\n",
       "\n",
       "    .dataframe tbody tr th {\n",
       "        vertical-align: top;\n",
       "    }\n",
       "\n",
       "    .dataframe thead th {\n",
       "        text-align: right;\n",
       "    }\n",
       "</style>\n",
       "<table border=\"1\" class=\"dataframe\">\n",
       "  <thead>\n",
       "    <tr style=\"text-align: right;\">\n",
       "      <th></th>\n",
       "      <th>blue</th>\n",
       "      <th>green</th>\n",
       "      <th>square</th>\n",
       "      <th>circle</th>\n",
       "    </tr>\n",
       "  </thead>\n",
       "  <tbody>\n",
       "    <tr>\n",
       "      <th>blue square</th>\n",
       "      <td>5.000000e-01</td>\n",
       "      <td>1.000000e-09</td>\n",
       "      <td>5.000000e-01</td>\n",
       "      <td>1.000000e-09</td>\n",
       "    </tr>\n",
       "    <tr>\n",
       "      <th>blue circle</th>\n",
       "      <td>3.333333e-01</td>\n",
       "      <td>6.666667e-10</td>\n",
       "      <td>6.666667e-10</td>\n",
       "      <td>6.666667e-01</td>\n",
       "    </tr>\n",
       "    <tr>\n",
       "      <th>green square</th>\n",
       "      <td>6.666667e-10</td>\n",
       "      <td>6.666667e-01</td>\n",
       "      <td>3.333333e-01</td>\n",
       "      <td>6.666667e-10</td>\n",
       "    </tr>\n",
       "  </tbody>\n",
       "</table>\n",
       "</div>"
      ],
      "text/plain": [
       "                      blue         green        square        circle\n",
       "blue square   5.000000e-01  1.000000e-09  5.000000e-01  1.000000e-09\n",
       "blue circle   3.333333e-01  6.666667e-10  6.666667e-10  6.666667e-01\n",
       "green square  6.666667e-10  6.666667e-01  3.333333e-01  6.666667e-10"
      ]
     },
     "execution_count": 10,
     "metadata": {},
     "output_type": "execute_result"
    }
   ],
   "source": [
    "df_s1, probs_s1 = pragmatic_speaker({\"color\": \"blue\", \"shape\": \"square\", \"string\": \"blue square\"})\n",
    "df_s1"
   ]
  },
  {
   "cell_type": "code",
   "execution_count": 11,
   "id": "fde1ace4",
   "metadata": {},
   "outputs": [
    {
     "data": {
      "text/plain": [
       "blue      5.000000e-01\n",
       "green     1.000000e-09\n",
       "square    5.000000e-01\n",
       "circle    1.000000e-09\n",
       "Name: blue square, dtype: float64"
      ]
     },
     "execution_count": 11,
     "metadata": {},
     "output_type": "execute_result"
    }
   ],
   "source": [
    "probs_s1"
   ]
  },
  {
   "cell_type": "markdown",
   "id": "8ff35dcd",
   "metadata": {},
   "source": [
    "So this is saying that if the intended target is blue square, the speaker has 0.5 chance of saying blue, 0.5 chance of saying square, and 0 chance of saying anything else."
   ]
  },
  {
   "cell_type": "markdown",
   "id": "333651b6",
   "metadata": {},
   "source": [
    "## Pragmatic listener\n",
    "\n",
    "The pragmatic listener is the third and final component of our model. Here, we are capturing the idea that the pragmatic listener acts in accordance with Bayes rules: the probability that they believe the state of the world is $s$ given that they heard utterance $u$ is proportional to the probability of saying $u$ given the target is $s$, times the prior probability of $s$. Note that the probability of $u$ given $s$ is exactly what the pragmatic speaker gave us, so we're plugging it in here (the second instance of recursion in the model) Formally, the pragmatic listener is defined as follows:\n",
    "\n",
    "$$P_{L_1}(s \\vert u) \\propto P_{S_1}(u \\vert s) \\cdot P(s)$$"
   ]
  },
  {
   "cell_type": "code",
   "execution_count": 12,
   "id": "da6b9b95",
   "metadata": {},
   "outputs": [],
   "source": [
    "def pragmatic_listener(utt):\n",
    "    epsilon = 0.0000001\n",
    "    all_vals = []\n",
    "    for curr_obj in objects:\n",
    "        _, probs = pragmatic_speaker(curr_obj)\n",
    "        all_vals.append(probs + epsilon)\n",
    "\n",
    "    data = normalize_rows(np.array(all_vals).T)\n",
    "    df_cols = [obj[\"string\"] for obj in objects]\n",
    "    df = pd.DataFrame(data, columns=df_cols, index=utterances)\n",
    "    return df, df.loc[utt]"
   ]
  },
  {
   "cell_type": "code",
   "execution_count": 13,
   "id": "d76c6ed4",
   "metadata": {},
   "outputs": [
    {
     "data": {
      "text/html": [
       "<div>\n",
       "<style scoped>\n",
       "    .dataframe tbody tr th:only-of-type {\n",
       "        vertical-align: middle;\n",
       "    }\n",
       "\n",
       "    .dataframe tbody tr th {\n",
       "        vertical-align: top;\n",
       "    }\n",
       "\n",
       "    .dataframe thead th {\n",
       "        text-align: right;\n",
       "    }\n",
       "</style>\n",
       "<table border=\"1\" class=\"dataframe\">\n",
       "  <thead>\n",
       "    <tr style=\"text-align: right;\">\n",
       "      <th></th>\n",
       "      <th>blue square</th>\n",
       "      <th>blue circle</th>\n",
       "      <th>green square</th>\n",
       "    </tr>\n",
       "  </thead>\n",
       "  <tbody>\n",
       "    <tr>\n",
       "      <th>blue</th>\n",
       "      <td>5.999999e-01</td>\n",
       "      <td>4.000000e-01</td>\n",
       "      <td>1.208000e-07</td>\n",
       "    </tr>\n",
       "    <tr>\n",
       "      <th>green</th>\n",
       "      <td>1.514999e-07</td>\n",
       "      <td>1.509999e-07</td>\n",
       "      <td>9.999997e-01</td>\n",
       "    </tr>\n",
       "    <tr>\n",
       "      <th>square</th>\n",
       "      <td>5.999999e-01</td>\n",
       "      <td>1.208000e-07</td>\n",
       "      <td>4.000000e-01</td>\n",
       "    </tr>\n",
       "    <tr>\n",
       "      <th>circle</th>\n",
       "      <td>1.514999e-07</td>\n",
       "      <td>9.999997e-01</td>\n",
       "      <td>1.509999e-07</td>\n",
       "    </tr>\n",
       "  </tbody>\n",
       "</table>\n",
       "</div>"
      ],
      "text/plain": [
       "         blue square   blue circle  green square\n",
       "blue    5.999999e-01  4.000000e-01  1.208000e-07\n",
       "green   1.514999e-07  1.509999e-07  9.999997e-01\n",
       "square  5.999999e-01  1.208000e-07  4.000000e-01\n",
       "circle  1.514999e-07  9.999997e-01  1.509999e-07"
      ]
     },
     "execution_count": 13,
     "metadata": {},
     "output_type": "execute_result"
    }
   ],
   "source": [
    "df_l1, probs_l1 = pragmatic_listener('blue')\n",
    "df_l1"
   ]
  },
  {
   "cell_type": "code",
   "execution_count": 14,
   "id": "7d3d5d36",
   "metadata": {},
   "outputs": [
    {
     "data": {
      "text/plain": [
       "blue square     5.999999e-01\n",
       "blue circle     4.000000e-01\n",
       "green square    1.208000e-07\n",
       "Name: blue, dtype: float64"
      ]
     },
     "execution_count": 14,
     "metadata": {},
     "output_type": "execute_result"
    }
   ],
   "source": [
    "probs_l1"
   ]
  },
  {
   "cell_type": "markdown",
   "id": "2084404c",
   "metadata": {},
   "source": [
    "So this model predicts that a pragmatic listener who hears the utterance \"blue\" is more likely to think that the intended referent is the blue square."
   ]
  },
  {
   "cell_type": "code",
   "execution_count": null,
   "id": "f146d1df",
   "metadata": {},
   "outputs": [],
   "source": []
  }
 ],
 "metadata": {
  "kernelspec": {
   "display_name": "Python 3 (ipykernel)",
   "language": "python",
   "name": "python3"
  },
  "language_info": {
   "codemirror_mode": {
    "name": "ipython",
    "version": 3
   },
   "file_extension": ".py",
   "mimetype": "text/x-python",
   "name": "python",
   "nbconvert_exporter": "python",
   "pygments_lexer": "ipython3",
   "version": "3.10.8"
  }
 },
 "nbformat": 4,
 "nbformat_minor": 5
}
